{
 "cells": [
  {
   "cell_type": "markdown",
   "metadata": {},
   "source": [
    "# Activity: Clean data using SQL\n",
    "\n",
    "## Overview\n",
    "\n",
    "As a data analyst working with a used car dealership startup venture, you need to find out which cars are most popular with customers so that the investors can make sure to stock accordingly. For this activity, we will:\n",
    "\n",
    "- create a custom dataset in BigQuery,\n",
    "- import a .csv file as a new table in the BigQuery dataset, and\n",
    "- use SQL queries to clean automobile data.\n",
    "\n",
    "## Dataset\n",
    "\n",
    "The data is obtained from an external source and contains historical sales data on car prices and their features. The data can be downloaded from the [UC Irvine Machine Learning Repository](https://archive.ics.uci.edu/dataset/10/automobile), [Google Sheets](https://docs.google.com/spreadsheets/d/1GRu_BUz4T6GcsQQindn_pkltkmA94M-HU6BWCfpjMWE/edit?usp=sharing) or directly by downloading the [.csv file](/activities/sql/c04m03-clean-data-using-sql/c04m03-automobile-data.csv). A preview of the comma-delimited file is show below.\n",
    "\n",
    "![Automobile data in csv](c04m03-automobile-data-csv.png 'Automobile data in csv')\n",
    "\n",
    "## Importing the data in BigQuery\n",
    "\n",
    "The following steps are followed to import the baby names data for 2014 to BigQuery:\n",
    "\n",
    "- **Create dataset** with **Dataset ID** `cars`\n",
    "- In the **Dataset info** window, select the **CREATE TABLE** button\n",
    "- In the **Source** section, select the ***Upload*** option in **Create table from**\n",
    "- Browse to the `c04m03-automobile-data.csv` file and open\n",
    "- Set the file format to `.csv`\n",
    "- In the **Destination** section, name the table as `car_info`\n",
    "- In the **Schema** section, select **Auto detect**\n",
    "\n",
    "Finally, select **Create table**. A new table `car_info` has been created and appear in the explorer pane under the database `cars`. A preview of the data is show below.\n",
    "\n",
    "![Automobile data in BigQuery](c04m03-automobile-data-bigquery.png 'Automobile data in BigQuery')\n",
    "\n",
    "## Data cleaning\n",
    "\n"
   ]
  }
 ],
 "metadata": {
  "kernelspec": {
   "display_name": "Python 3",
   "language": "python",
   "name": "python3"
  },
  "language_info": {
   "codemirror_mode": {
    "name": "ipython",
    "version": 3
   },
   "file_extension": ".py",
   "mimetype": "text/x-python",
   "name": "python",
   "nbconvert_exporter": "python",
   "pygments_lexer": "ipython3",
   "version": "3.9.6"
  }
 },
 "nbformat": 4,
 "nbformat_minor": 2
}

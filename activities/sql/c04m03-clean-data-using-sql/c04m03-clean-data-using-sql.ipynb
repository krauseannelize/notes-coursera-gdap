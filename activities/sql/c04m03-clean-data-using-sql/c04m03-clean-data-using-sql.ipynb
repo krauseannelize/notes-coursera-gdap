{
 "cells": [
  {
   "cell_type": "markdown",
   "metadata": {},
   "source": [
    "# Activity: Clean data using SQL\n",
    "\n",
    "## Overview\n",
    "\n",
    "As a data analyst working with a used car dealership startup venture, you need to find out which cars are most popular with customers so that the investors can make sure to stock accordingly. For this activity, we will:\n",
    "\n",
    "- create a custom dataset in BigQuery,\n",
    "- import a .csv file as a new table in the BigQuery dataset, and\n",
    "- use SQL queries to clean automobile data.\n",
    "\n",
    "## Dataset\n",
    "\n",
    "The data is obtained from an external source and contains historical sales data on car prices and their features. The data can be downloaded from the [UC Irvine Machine Learning Repository](https://archive.ics.uci.edu/dataset/10/automobile), [Google Sheets](https://docs.google.com/spreadsheets/d/1GRu_BUz4T6GcsQQindn_pkltkmA94M-HU6BWCfpjMWE/edit?usp=sharing) or directly by downloading the [.csv file](/activities/sql/c04m03-clean-data-using-sql/c04m03-automobile-data.csv). A preview of the comma-delimited file is show below.\n",
    "\n",
    "![Automobile data in csv](c04m03-automobile-data-csv.png 'Automobile data in csv')\n",
    "\n",
    "## Importing the data in BigQuery\n",
    "\n",
    "The following steps are followed to import the baby names data for 2014 to BigQuery:\n",
    "\n",
    "- **Create dataset** with **Dataset ID** `cars`\n",
    "- In the **Dataset info** window, select the **CREATE TABLE** button\n",
    "- In the **Source** section, select the ***Upload*** option in **Create table from**\n",
    "- Browse to the `c04m03-automobile-data.csv` file and open\n",
    "- Set the file format to `.csv`\n",
    "- In the **Destination** section, name the table as `car_info`\n",
    "- In the **Schema** section, select **Auto detect**\n",
    "\n",
    "Finally, select **Create table**. A new table `car_info` has been created and appear in the explorer pane under the database `cars`. A preview of the data is show below.\n",
    "\n",
    "![Automobile data in BigQuery](c04m03-automobile-data-bigquery.png 'Automobile data in BigQuery')\n",
    "\n",
    "## Data cleaning\n",
    "\n",
    "The data is described in full by [UC Irvine Machine Learning Repository](https://archive.ics.uci.edu/dataset/10/automobile) (the **\"data description\"**) and the acceptable values or ranges for every variable. It also makes a note of which variables contain missing values.\n",
    "\n",
    "### Variable | make\n",
    "\n",
    "This column should only contain one of these values: alfa-romero, audi, bmw, chevrolet, dodge, honda, isuzu, jaguar, mazda, mercedes-benz, mercury, mitsubishi, nissan, peugot, plymouth, porsche, renault, saab, subaru, toyota, volkswagen, volvo. According to the data description, there are no missing values. I run the following query for confirm this:"
   ]
  },
  {
   "cell_type": "code",
   "execution_count": null,
   "metadata": {
    "vscode": {
     "languageId": "sql"
    }
   },
   "outputs": [],
   "source": [
    "SELECT\n",
    "  DISTINCT make\n",
    "FROM\n",
    "  `plucky-aegis-427011-v5.cars.car_info`;"
   ]
  },
  {
   "cell_type": "markdown",
   "metadata": {},
   "source": [
    "The above query only delivers the expected values and indicates no missing values. If I were able to execute UPDATE queries in a BigQuery sandbox account, however, I would also execute this query to correct the spelling of \"peugot\" to \"peugeot\" in the dataset:"
   ]
  },
  {
   "cell_type": "code",
   "execution_count": null,
   "metadata": {
    "vscode": {
     "languageId": "sql"
    }
   },
   "outputs": [],
   "source": [
    "UPDATE\n",
    "  `plucky-aegis-427011-v5.cars.car_info`\n",
    "SET\n",
    "  make = 'peugeot'\n",
    "WHERE\n",
    "  make = 'peugot';"
   ]
  },
  {
   "cell_type": "markdown",
   "metadata": {},
   "source": [
    "### Variable | fuel_type\n",
    "\n",
    "According to the data description, the fuel type can only be diesel or gas, and there should be no missing values. Running the query below confirms that values are only either diesel or gas, and that there are no null values:"
   ]
  },
  {
   "cell_type": "code",
   "execution_count": null,
   "metadata": {
    "vscode": {
     "languageId": "sql"
    }
   },
   "outputs": [],
   "source": [
    "SELECT\n",
    "  DISTINCT fuel_type\n",
    "FROM\n",
    "  `plucky-aegis-427011-v5.cars.car_info`;"
   ]
  },
  {
   "cell_type": "markdown",
   "metadata": {},
   "source": [
    "### Variable | num_of_doors\n",
    "\n",
    "The data description indicates that the number of doors should be either two or four, but that there are missing values present. I execute the following queries:"
   ]
  },
  {
   "cell_type": "code",
   "execution_count": null,
   "metadata": {
    "vscode": {
     "languageId": "sql"
    }
   },
   "outputs": [],
   "source": [
    "SELECT\n",
    "  DISTINCT num_of_doors\n",
    "FROM\n",
    "  `plucky-aegis-427011-v5.cars.car_info`;\n",
    "\n",
    "/* This query confirmed that the values are either two or four, but that some values are missing. The next query determines which rows have missing values */\n",
    "\n",
    "SELECT\n",
    "  *\n",
    "FROM\n",
    "  `plucky-aegis-427011-v5.cars.car_info`\n",
    "WHERE\n",
    "  num_of_doors IS NULL;"
   ]
  },
  {
   "cell_type": "markdown",
   "metadata": {},
   "source": [
    "The query returns two rows:\n",
    "\n",
    "1. make: dodge, fuel_type: gas, body_style: sedan\n",
    "2. make: mazda, fuel_type: diesel, body_style: sedan\n",
    "\n",
    "The sales manager confirms that all Dodge gas sedans and all Mazda diesel sedans sold had four doors. If I were able to execute UPDATE queries in a BigQuery sandbox account, I would execute these queries to update the two rows to have four doors:"
   ]
  },
  {
   "cell_type": "code",
   "execution_count": null,
   "metadata": {
    "vscode": {
     "languageId": "sql"
    }
   },
   "outputs": [],
   "source": [
    "UPDATE -- row 1 for dodge\n",
    "    `plucky-aegis-427011-v5.cars.car_info`\n",
    "SET\n",
    "    num_of_doors = \"four\"\n",
    "WHERE\n",
    "    make = \"dodge\"\n",
    "    AND fuel_type = \"gas\"\n",
    "    AND body_style = \"sedan\";\n",
    "\n",
    "UPDATE -- row 2 for mazda\n",
    "    `plucky-aegis-427011-v5.cars.car_info`\n",
    "SET\n",
    "    num_of_doors = \"four\"\n",
    "WHERE\n",
    "    make = \"mazda\"\n",
    "    AND fuel_type = \"diesel\"\n",
    "    AND body_style = \"sedan\";"
   ]
  },
  {
   "cell_type": "markdown",
   "metadata": {},
   "source": [
    "### Variable | body_style\n",
    "\n",
    "According to the data description, the body type has no missing values and should only be one of these values: hardtop, wagon, sedan, hatchback, convertible. Executing the query below confirms this:"
   ]
  },
  {
   "cell_type": "code",
   "execution_count": null,
   "metadata": {
    "vscode": {
     "languageId": "sql"
    }
   },
   "outputs": [],
   "source": [
    "SELECT\n",
    "  DISTINCT body_style\n",
    "FROM\n",
    "  `plucky-aegis-427011-v5.cars.car_info`;"
   ]
  },
  {
   "cell_type": "markdown",
   "metadata": {},
   "source": [
    "### Variable | drive_wheels\n",
    "\n",
    "It is indicated in the data description that there are no missing values for this variable and that it should only contain the values 4wd, fwd, rwd. I execute the following query:"
   ]
  },
  {
   "cell_type": "code",
   "execution_count": null,
   "metadata": {
    "vscode": {
     "languageId": "sql"
    }
   },
   "outputs": [],
   "source": [
    "SELECT\n",
    "  DISTINCT drive_wheels\n",
    "FROM\n",
    "  `plucky-aegis-427011-v5.cars.car_info`;"
   ]
  },
  {
   "cell_type": "markdown",
   "metadata": {},
   "source": [
    "This confirms that there are no missing values, but 4wd is returned as two unique values. To identify the rows that have leading and trailing spaces, I execute the following query:"
   ]
  },
  {
   "cell_type": "code",
   "execution_count": null,
   "metadata": {
    "vscode": {
     "languageId": "sql"
    }
   },
   "outputs": [],
   "source": [
    "SELECT\n",
    "  *\n",
    "FROM\n",
    "  `plucky-aegis-427011-v5.cars.car_info`\n",
    "WHERE\n",
    "  drive_wheels NOT IN ('4wd','fwd','rwd');"
   ]
  },
  {
   "cell_type": "markdown",
   "metadata": {},
   "source": [
    "Five rows are identified. If I were able to execute UPDATE queries in a BigQuery sandbox account, I would execute the following query to update this variable by removing any extra spaces:"
   ]
  },
  {
   "cell_type": "code",
   "execution_count": null,
   "metadata": {
    "vscode": {
     "languageId": "sql"
    }
   },
   "outputs": [],
   "source": [
    "UPDATE\n",
    "    `plucky-aegis-427011-v5.cars.car_info`\n",
    "SET\n",
    "    drive_wheels = TRIM(drive_wheels);"
   ]
  },
  {
   "cell_type": "markdown",
   "metadata": {},
   "source": [
    "### Variable | engine_location\n",
    "\n",
    "According to the data description, the engine location can only be front or rear, and there should be no missing values. Running the query below confirms that values are only either front or rear, and that there are no null values:"
   ]
  },
  {
   "cell_type": "code",
   "execution_count": null,
   "metadata": {
    "vscode": {
     "languageId": "sql"
    }
   },
   "outputs": [],
   "source": [
    "SELECT\n",
    "  DISTINCT engine_location\n",
    "FROM\n",
    "  `plucky-aegis-427011-v5.cars.car_info`;"
   ]
  }
 ],
 "metadata": {
  "kernelspec": {
   "display_name": "Python 3",
   "language": "python",
   "name": "python3"
  },
  "language_info": {
   "codemirror_mode": {
    "name": "ipython",
    "version": 3
   },
   "file_extension": ".py",
   "mimetype": "text/x-python",
   "name": "python",
   "nbconvert_exporter": "python",
   "pygments_lexer": "ipython3",
   "version": "3.9.6"
  }
 },
 "nbformat": 4,
 "nbformat_minor": 2
}

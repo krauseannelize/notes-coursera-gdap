{
 "cells": [
  {
   "cell_type": "markdown",
   "metadata": {},
   "source": [
    "# Activity: Clean data using SQL\n",
    "\n",
    "## Overview\n",
    "\n",
    "As a data analyst working with a used car dealership startup venture, you need to find out which cars are most popular with customers so that the investors can make sure to stock accordingly. For this activity, we will:\n",
    "\n",
    "- create a custom dataset in BigQuery,\n",
    "- import a .csv file as a new table in the BigQuery dataset, and\n",
    "- use SQL queries to clean automobile data.\n",
    "\n",
    "## Dataset\n",
    "\n",
    "The data is obtained from an external source and contains historical sales data on car prices and their features. The data can be downloaded from the [UC Irvine Machine Learning Repository](https://archive.ics.uci.edu/dataset/10/automobile), [Google Sheets](https://docs.google.com/spreadsheets/d/1GRu_BUz4T6GcsQQindn_pkltkmA94M-HU6BWCfpjMWE/edit?usp=sharing) or directly by downloading the [.csv file](/activities/sql/c04m03-clean-data-using-sql/c04m03-automobile-data.csv). A preview of the comma-delimited file is show below.\n",
    "\n",
    "![Automobile data in csv](c04m03-automobile-data-csv.png 'Automobile data in csv')\n",
    "\n",
    "## Importing the data in BigQuery\n",
    "\n",
    "The following steps are followed to import the baby names data for 2014 to BigQuery:\n",
    "\n",
    "- **Create dataset** with **Dataset ID** `cars`\n",
    "- In the **Dataset info** window, select the **CREATE TABLE** button\n",
    "- In the **Source** section, select the ***Upload*** option in **Create table from**\n",
    "- Browse to the `c04m03-automobile-data.csv` file and open\n",
    "- Set the file format to `.csv`\n",
    "- In the **Destination** section, name the table as `car_info`\n",
    "- In the **Schema** section, select **Auto detect**\n",
    "\n",
    "Finally, select **Create table**. A new table `car_info` has been created and appear in the explorer pane under the database `cars`. A preview of the data is show below.\n",
    "\n",
    "![Automobile data in BigQuery](c04m03-automobile-data-bigquery.png 'Automobile data in BigQuery')\n",
    "\n",
    "## Data cleaning\n",
    "\n",
    "The data is described in full by [UC Irvine Machine Learning Repository](https://archive.ics.uci.edu/dataset/10/automobile) (the **\"data description\"**) and the acceptable values or ranges for every variable. It also makes a note of which variables contain missing values.\n",
    "\n",
    "### Variable | make\n",
    "\n",
    "This column should only contain one of these values: alfa-romero, audi, bmw, chevrolet, dodge, honda, isuzu, jaguar, mazda, mercedes-benz, mercury, mitsubishi, nissan, peugot, plymouth, porsche, renault, saab, subaru, toyota, volkswagen, volvo. According to the data description, there are no missing values. I run the following query for confirm this:"
   ]
  },
  {
   "cell_type": "code",
   "execution_count": null,
   "metadata": {
    "vscode": {
     "languageId": "sql"
    }
   },
   "outputs": [],
   "source": [
    "SELECT *\n",
    "FROM `plucky-aegis-427011-v5.cars.car_info`\n",
    "WHERE\n",
    "  make NOT IN ('alfa-romero', 'audi', 'bmw', 'chevrolet', 'dodge', 'honda', 'isuzu', 'jaguar', 'mazda', 'mercedes-benz', 'mercury', 'mitsubishi', 'nissan', 'peugot', 'plymouth', 'porsche', 'renault', 'saab', 'subaru', 'toyota', 'volkswagen', 'volvo')\n",
    "  OR\n",
    "  make IS NULL;"
   ]
  },
  {
   "cell_type": "markdown",
   "metadata": {},
   "source": [
    "The above query does not deliver any results so this variable is clean. If I were able to execute UPDATE queries in a BigQuery sandbox account, however, I would run this query to correct the spelling of \"peogot\" to \"peugeot\" in the dataset:"
   ]
  },
  {
   "cell_type": "code",
   "execution_count": null,
   "metadata": {
    "vscode": {
     "languageId": "sql"
    }
   },
   "outputs": [],
   "source": [
    "UPDATE `plucky-aegis-427011-v5.cars.car_info`\n",
    "SET\n",
    "  make = 'peugeot'\n",
    "WHERE\n",
    "  make = 'peugot';"
   ]
  },
  {
   "cell_type": "markdown",
   "metadata": {},
   "source": [
    "### Variable | fuel_type\n",
    "\n",
    "According to the data description, the fuel type can only be diesel or gas, and there should be no missing values. Running the query below confirms that values are only either diesel or gas, and that there are no null values:"
   ]
  },
  {
   "cell_type": "code",
   "execution_count": null,
   "metadata": {
    "vscode": {
     "languageId": "sql"
    }
   },
   "outputs": [],
   "source": [
    "SELECT\n",
    "  DISTINCT fuel_type\n",
    "FROM `plucky-aegis-427011-v5.cars.car_info`;"
   ]
  },
  {
   "cell_type": "markdown",
   "metadata": {},
   "source": [
    "## Variable | num_of_doors\n",
    "\n",
    "The data description indicates that the number of doors should be either two or four, but that there are missing values present."
   ]
  }
 ],
 "metadata": {
  "kernelspec": {
   "display_name": "Python 3",
   "language": "python",
   "name": "python3"
  },
  "language_info": {
   "codemirror_mode": {
    "name": "ipython",
    "version": 3
   },
   "file_extension": ".py",
   "mimetype": "text/x-python",
   "name": "python",
   "nbconvert_exporter": "python",
   "pygments_lexer": "ipython3",
   "version": "3.9.6"
  }
 },
 "nbformat": 4,
 "nbformat_minor": 2
}

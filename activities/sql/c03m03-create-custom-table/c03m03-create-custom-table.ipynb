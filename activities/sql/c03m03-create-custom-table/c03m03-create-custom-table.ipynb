{
 "cells": [
  {
   "cell_type": "markdown",
   "metadata": {},
   "source": [
    "# Activity: Create a custom table in BigQuery\n",
    "\n",
    "## Overview\n",
    "\n",
    "This activity guides you through the process of importing your own data sources into BigQuery by creating a custom table and dataset. We will also query this data to answer a question about baby names in 2014.\n",
    "\n",
    "## Dataset\n",
    "\n",
    "We are provided with a zip file containing data about popular baby names from the U.S. Social Security Administration website after 1879 as of 1 March 2020. The unzipped data contains a comma-delimited file for each year from 1880 to 2019. Filenames use a consistent yobYYYY.txt format.\n",
    "\n",
    "Each record is saved in the format \"name,sex,number,\" where \"number\" is the number of occurrences of the name in the specified year. Name with less that 5 occurrences have been excluded from the list to safeguard privacy. A preview of the comma-delimited file is show below.\n",
    "\n",
    "![2014 Baby Names in CSV](c03m03-baby-names-2014-csv.png)\n",
    "\n",
    "## Importing the data in BigQuery\n",
    "\n",
    "The following steps are followed to import the baby names data for 2014 to BigQuery:\n",
    "\n",
    "- **Create dataset** with **Dataset ID** `babynames`\n",
    "- In the **Dataset info** window, select the **CREATE TABLE** button\n",
    "- In the **Source** section, select the ***Upload*** option in **Create table from**\n",
    "- Browse to the `yob2014.txt` file and open\n",
    "- Set the file format to `.csv`\n",
    "- In the **Destination** section, name the table as `names_2014`\n",
    "- In the **Schema** section, select **Edit as text** and input the following:"
   ]
  },
  {
   "cell_type": "code",
   "execution_count": null,
   "metadata": {
    "vscode": {
     "languageId": "plaintext"
    }
   },
   "outputs": [],
   "source": [
    "name:string,\n",
    "gender:string,\n",
    "count:integer"
   ]
  },
  {
   "cell_type": "markdown",
   "metadata": {},
   "source": [
    "Finally, select **Create table**. A new table `names_2014` has been created and appear in the explorer pane under the database `babynames`. A preview of the data is show below.\n",
    "\n",
    "![2014 Baby Names in BigQuery](c03m03-baby-names-2014-bigquery.png)\n",
    "\n",
    "## Query: What is the top five baby names for boys in the United States in 2014?\n",
    "\n",
    "In BigQuery, I execute the following query to obtain the name and count of all records that are identified as male ('M'), sort it in descending order so the highest count will be at the top and limit to 5 to only show the top 5:"
   ]
  },
  {
   "cell_type": "code",
   "execution_count": null,
   "metadata": {
    "vscode": {
     "languageId": "sql"
    }
   },
   "outputs": [],
   "source": [
    "SELECT\n",
    "  name,\n",
    "  count\n",
    "FROM\n",
    "  `plucky-aegis-427011-v5.babynames.names_2014`\n",
    "WHERE\n",
    "  gender = 'M'\n",
    "ORDER BY\n",
    "  count DESC\n",
    "LIMIT\n",
    "  5;"
   ]
  },
  {
   "cell_type": "markdown",
   "metadata": {},
   "source": [
    "The query provides us with the following list indicating that **Noah** was the baby name used most often for male babies in 2014:\n",
    "\n",
    "!['Top 5 boy names in 2014'](c03m03-top-5-boy-names-2014.png)"
   ]
  }
 ],
 "metadata": {
  "language_info": {
   "name": "python"
  }
 },
 "nbformat": 4,
 "nbformat_minor": 2
}

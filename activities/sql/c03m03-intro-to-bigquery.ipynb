{
 "cells": [
  {
   "cell_type": "markdown",
   "metadata": {},
   "source": [
    "# Activity: Intro to BigQuery\n",
    "\n",
    "## Overview\n",
    "\n",
    "This activity let us explore the BigQuery interface, upload public data to the console and write simple SQL queries to answer specific questions.\n",
    "\n",
    "## Dataset\n",
    "\n",
    "We will use the BigQuery public dataset called `london_bicycles` and use the `cycle_hire` table. The full table path is `bigquery-public-data.london_bicycles.cycle_hire`. Below is a screenshot of schema of this table:\n",
    "\n",
    "![Cycle Hire Data Schema](c03m03-london-cycle-hire-schema.png 'Cycle Hire Data Schema')\n",
    "\n",
    "## Query 1: Which bike rides were 20 minutes or longer?\n",
    "\n",
    "The trip duration is captured in seconds. To determine this, we need to filter for rides that had a duration greater than or equal to 1200 seconds (60 seconds to a minute multiplied by 20 minutes). This the query executed in BigQuery to extract the relevant records:"
   ]
  },
  {
   "cell_type": "code",
   "execution_count": null,
   "metadata": {
    "vscode": {
     "languageId": "sql"
    }
   },
   "outputs": [],
   "source": [
    "SELECT\n",
    "    duration,\n",
    "    start_station_name\n",
    "FROM\n",
    "    `bigquery-public-data.london_bicycles.cycle_hire`\n",
    "WHERE\n",
    "    duration >= 1200;"
   ]
  },
  {
   "cell_type": "markdown",
   "metadata": {},
   "source": [
    "The query has identified that **26441016** of the recorded 83434866 rides were 20 minutes or longer. Below is a preview of the query results:\n",
    "\n",
    "![Query 1 Results](c03m03-intro-to-bigquery-q1.png 'Query 1 Results')\n",
    "\n",
    "## Query 2: What is the name of the station whose start_station_id is 111?\n",
    "\n",
    "The name of the station with the start_station_id 111 is **Park Lane, Hyde Park**. To obtain this information, the following query was used:"
   ]
  },
  {
   "cell_type": "code",
   "execution_count": null,
   "metadata": {
    "vscode": {
     "languageId": "sql"
    }
   },
   "outputs": [],
   "source": [
    "SELECT\n",
    "    start_station_name\n",
    "FROM\n",
    "    `bigquery-public-data.london_bicycles.cycle_hire`\n",
    "WHERE\n",
    "    start_station_id = 111\n",
    "LIMIT 1;"
   ]
  },
  {
   "cell_type": "markdown",
   "metadata": {},
   "source": [
    "## Query 3: Which stations did the bike with bike_id 1710 start from?\n",
    "\n",
    "The following query was executed to return the rental_id, start_station_id and start_station_name of all rides recorded with the bike with bike_id 1710:"
   ]
  },
  {
   "cell_type": "code",
   "execution_count": null,
   "metadata": {
    "vscode": {
     "languageId": "sql"
    }
   },
   "outputs": [],
   "source": [
    "SELECT\n",
    "  rental_id,\n",
    "  start_station_id,\n",
    "  start_station_name\n",
    "FROM\n",
    "  `bigquery-public-data.london_bicycles.cycle_hire` \n",
    "WHERE\n",
    "  bike_id = 1710;"
   ]
  },
  {
   "cell_type": "markdown",
   "metadata": {},
   "source": [
    "The query identified **4543** rides that were undertaken on the bike with bike_id 1710 and below is a preview of the query results:\n",
    "\n",
    "![Query 3 Results](c03m03-intro-to-bigquery-q3.png 'Query 3 Results')\n",
    "\n",
    "## Query 4: What is the bike_model of bike_id 58782?\n",
    "\n",
    "The bike_id 58782 is a **CLASSIC** bike_model and the following query was executed to answer this question:"
   ]
  },
  {
   "cell_type": "code",
   "execution_count": null,
   "metadata": {
    "vscode": {
     "languageId": "sql"
    }
   },
   "outputs": [],
   "source": [
    "SELECT\n",
    "    bike_model\n",
    "FROM\n",
    "    `bigquery-public-data.london_bicycles.cycle_hire` \n",
    "WHERE\n",
    "    bike_id = 58782\n",
    "LIMIT 1;"
   ]
  },
  {
   "cell_type": "markdown",
   "metadata": {},
   "source": [
    "## Query 5: At what station did the bike trip with rental_id 57635395 end?\n",
    "\n",
    "The bike trip with rental_id 57635395 ended at the **East Village, Queen Elizabeth Olympic Park** station. The following query was executed to answer this question:"
   ]
  },
  {
   "cell_type": "code",
   "execution_count": null,
   "metadata": {
    "vscode": {
     "languageId": "sql"
    }
   },
   "outputs": [],
   "source": [
    "SELECT\n",
    "    end_station_name\n",
    "FROM\n",
    "    `bigquery-public-data.london_bicycles.cycle_hire` \n",
    "WHERE\n",
    "    rental_id = 57635395;"
   ]
  }
 ],
 "metadata": {
  "language_info": {
   "name": "python"
  }
 },
 "nbformat": 4,
 "nbformat_minor": 2
}

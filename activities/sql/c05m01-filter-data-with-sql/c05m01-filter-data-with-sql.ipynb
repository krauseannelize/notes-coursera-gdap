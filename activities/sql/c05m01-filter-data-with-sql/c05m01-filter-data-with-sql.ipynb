{
 "cells": [
  {
   "cell_type": "markdown",
   "metadata": {},
   "source": [
    "# Activity: Filter and sort data with SQL\n",
    "\n",
    "## Overview\n",
    "\n",
    "The purposes of this activity is to show us how to use SQL to filter and sort data in a large dataset in BigQuery. We will:\n",
    "\n",
    "- create a custom dataset in BigQuery,\n",
    "- import a .csv file as a new table in the BigQuery dataset, and\n",
    "- use SQL queries to filter and sort data.\n",
    "\n",
    "## Dataset\n",
    "\n",
    "We are provided with a .csv file with data on movies such as title, genre, revenue, etc. The data can be downloaded from [Google Sheets](https://docs.google.com/spreadsheets/d/1pjpm8QPJOhX7aIuQ6j4iKz66b5AfkXWXHdMSxsHEyKI/edit?usp=sharing) or directly by downloading the [.csv file](/activities/sql/c05m01-filter-data-with-sql/c05m01-movie-data.csv). A preview of the comma-delimited file is show below.\n",
    "\n",
    "![Movie data in csv](c05m01-movie-data-csv.png 'Movie data in csv')\n",
    "\n",
    "## Data Cleaning\n",
    "\n",
    "Before importing the dataset into BigQuery, I need to clean the column names to ensure compatibility with SQL queries. The current column names contain spaces, which can lead to errors when writing queries or referencing fields. To fix this:\n",
    "\n",
    "- Spaces will be replaced with underscores (_).\n",
    "- Column names will be converted to lowercase for consistency.\n",
    "- Extra spaces before or after column names will be removed.\n",
    "\n",
    "This preprocessing step ensures the dataset is query-friendly and adheres to best practices for database schemas. Below is a list of the current column names and their updated versions, which will be applied before importing into BigQuery:\n",
    "\n",
    "| Original Column Name | Updated Column Name |\n",
    "| --- | --- |\n",
    "| Movie Title | movie_title |\n",
    "| Release Date | release_date |\n",
    "| Wikipedia URL | wikipedia_url |\n",
    "| Genre | genre |\n",
    "| Director (1) | director_1 |\n",
    "| Director (2) | director_2 |\n",
    "| Cast (1) | cast_1 |\n",
    "| Cast (2) | cast_2 |\n",
    "| Cast (3) | cast_3 |\n",
    "| Cast (4) | cast_4 |\n",
    "| Cast (5) | cast_5 |\n",
    "| Budget  | budget |\n",
    "| Revenue | revenue |\n",
    "\n",
    "The updated data can be downloaded from [Google Sheets](https://docs.google.com/spreadsheets/d/1PNJPNZwKd6eKyDQnj2ybsFrMQAikA48Of5uh1wXH5cY/edit?usp=sharing) or directly by downloading the [.csv file](/activities/sql/c05m01-filter-data-with-sql/c05m01-movie-data-clean.csv).\n",
    "\n",
    "## Importing the data in BigQuery\n",
    "\n",
    "The following steps are followed to import the movie dataset to BigQuery:\n",
    "\n",
    "- **Create dataset** with **Dataset ID** `movie_data`\n",
    "- In the **Dataset info** window, select the **CREATE TABLE** button\n",
    "- In the **Source** section, select the ***Upload*** option in **Create table from**\n",
    "- Browse to the `c05m01-movie-data-clean.csv` file and open\n",
    "- Set the file format to `.csv`\n",
    "- In the **Destination** section, name the table as `movies`\n",
    "- In the **Schema** section, select **Auto detect**\n",
    "- Optional (alternative to cleaning the column names): In the **Advanced options** menu, change **Column name character map** to `V2` as this will allow parentheses to be used in column names.\n",
    "\n",
    "Finally, select **Create table**. A new table `movies` has been created and appear in the explorer pane under the database `movie_data`. A preview of the data is show below.\n",
    "\n",
    "![Movie data in BigQuery](c05m01-movie-data-bigquery.png 'Movie data in BigQuery')\n",
    "\n",
    "## Query: Movies in the Comedy genre\n",
    "\n",
    "The following query will allow us to filter all the movie titles to only show movies:\n",
    "\n",
    "- in the Comedy genre,\n",
    "- with revenues greater than $300,000,000.00,\n",
    "- extracting the year from the release date, and\n",
    "- sorting the movies by year in descending order so that the latest movie will be listed first:"
   ]
  },
  {
   "cell_type": "code",
   "execution_count": null,
   "metadata": {
    "vscode": {
     "languageId": "sql"
    }
   },
   "outputs": [],
   "source": [
    "SELECT\n",
    "  movie_title,\n",
    "  EXTRACT(YEAR FROM release_date) AS release_year\n",
    "FROM `plucky-aegis-427011-v5.movie_data.movies`\n",
    "WHERE\n",
    "  genre = 'Comedy'\n",
    "  AND revenue > 300000000\n",
    "ORDER BY\n",
    "  EXTRACT(YEAR FROM release_date) DESC;"
   ]
  },
  {
   "cell_type": "markdown",
   "metadata": {},
   "source": [
    "There are 508 rows in the movies table and this query only shows the 7 Comedy movies with revenues greater than $300,000,000.00 sorted in descending order by release year. The query successfully filtered and sorted the data. The query results were returned in the table below:\n",
    "\n",
    "![Comedy movies query results](c05m01-movies-comedy-by-year.png 'Comedy movies query results')"
   ]
  }
 ],
 "metadata": {
  "language_info": {
   "name": "python"
  }
 },
 "nbformat": 4,
 "nbformat_minor": 2
}

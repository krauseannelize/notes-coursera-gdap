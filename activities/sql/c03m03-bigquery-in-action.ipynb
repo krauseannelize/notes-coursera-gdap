{
 "cells": [
  {
   "cell_type": "markdown",
   "metadata": {},
   "source": [
    "# Activity: Bigquery in action\n",
    "\n",
    "## Overview\n",
    "\n",
    "This activity aims to show you how to create a query in BigQuery to view a small section of data from a large public dataset.\n",
    "\n",
    "## Dataset\n",
    "\n",
    "We will use the BigQuery public dataset called `sunroof_solar` and use the `solar_potential_by_postal_code` table. The full table path is\n",
    "`bigquery-public-data.sunroof_solar.solar_potential_by_postal_code`. Below is a screenshot of schema of this table:\n",
    "\n",
    "![Sunroof Data Schema](c03m03-sunroof-postal-code-schema.png 'Sunroof Data Schema')\n",
    "\n",
    "## Query section of data\n",
    "\n",
    "This query is executed in BigQuery to extract only the records from Pennsylvania:"
   ]
  },
  {
   "cell_type": "code",
   "execution_count": null,
   "metadata": {
    "vscode": {
     "languageId": "sql"
    }
   },
   "outputs": [],
   "source": [
    "SELECT *\n",
    "FROM `bigquery-public-data.sunroof_solar.solar_potential_by_postal_code`\n",
    "WHERE\n",
    "  state_name = 'Pennsylvania';"
   ]
  },
  {
   "cell_type": "markdown",
   "metadata": {},
   "source": [
    "## Query results\n",
    "\n",
    "The results of the above query were as follows:\n",
    "\n",
    "![Pennsylvania Data](/activities/sql/c03m03-sunroof-pennsylvania.png 'Pennsylvania Data')"
   ]
  }
 ],
 "metadata": {
  "kernelspec": {
   "display_name": "Python 3",
   "language": "python",
   "name": "python3"
  },
  "language_info": {
   "codemirror_mode": {
    "name": "ipython",
    "version": 3
   },
   "file_extension": ".py",
   "mimetype": "text/x-python",
   "name": "python",
   "nbconvert_exporter": "python",
   "pygments_lexer": "ipython3",
   "version": "3.9.6"
  }
 },
 "nbformat": 4,
 "nbformat_minor": 2
}

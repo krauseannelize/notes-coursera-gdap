{
 "cells": [
  {
   "cell_type": "markdown",
   "metadata": {},
   "source": [
    "# Activity: Analyze weather data in BigQuery\n",
    "\n",
    "## Overview\n",
    "\n",
    "As a data analyst at a news station in New York City, I have been tasked with answering questions about the weather for meteorologists. The meteorologists need me to obtain:\n",
    "\n",
    "- the temperature, wind speed, and precipitation for stations La Guardia and JFK, for every day in 2020. They’ve also requested the data be presented to them in descending order by date and ascending order by Station ID,\n",
    "- the average temperature in June 2020, and\n",
    "- the average wind speed in December 2020. \n",
    "\n",
    "## Dataset\n",
    "\n",
    "I will be working with a public dataset names `noaa_gsod` that contains global summaries of the day (GSOD) from the National Oceanic and Atmospheric Administration (NOAA). The full path of this dataset is `bigquery-public-data.noaa_gsod`. The GSOD dataset includes information about daily weather elements, such as mean temperature and wind speed, from more than 9,000 weather stations across the globe.\n",
    "\n",
    "The dataset stores the information for every year in a different table so for the purpose of this question, I will be using the `gsod2020` table. In addition, the dataset is very large and as such I will save a subset of the New York region in a new table to make my analysis easier.\n",
    "\n",
    "## Query: Weather for NY region in 2020\n",
    "\n",
    "Before proceeding with the analysis, it will be necessary to address missing values within the dataset to ensure that only valid data points are included in the analysis. In this case, missing values were represented by a specific values in the following columns:\n",
    "\n",
    "- `temp`: Temperature = 9999.9\n",
    "- `wdsp`: Wind speed = 999.9\n",
    "- `prcp`: Precipitation = 99.99\n",
    "\n",
    "The station codes for the two stations we are interested in for the New York region are:\n",
    "\n",
    "- 725030 for La Guardia\n",
    "- 744860 for JFK\n",
    "\n",
    "As it can be confusing to read the data with the Station IDs, I will add a name column with the Station name. To extract the temperature, wind speed, and precipitation for these, presented in descending order by date and ascending order by Station ID, for every day in 2020 from the dataset, the following SQL query is executed:"
   ]
  },
  {
   "cell_type": "markdown",
   "metadata": {},
   "source": [
    "# Activity: Analyze weather data in BigQuery\n",
    "\n",
    "## Overview\n",
    "\n",
    "As a data analyst at a news station in New York City, I have been tasked with answering questions about the weather for meteorologists. The meteorologists need me to obtain:\n",
    "\n",
    "- the temperature, wind speed, and precipitation for stations La Guardia and JFK, for every day in 2020. They’ve also requested the data be presented to them in descending order by date and ascending order by Station ID,\n",
    "- the average temperature in June 2020, and\n",
    "- the average wind speed in December 2020. \n",
    "\n",
    "## Dataset\n",
    "\n",
    "I will be working with a public dataset names `noaa_gsod` that contains global summaries of the day (GSOD) from the National Oceanic and Atmospheric Administration (NOAA). The full path of this dataset is `bigquery-public-data.noaa_gsod`. The GSOD dataset includes information about daily weather elements, such as mean temperature and wind speed, from more than 9,000 weather stations across the globe.\n",
    "\n",
    "The dataset stores the information for every year in a different table so for the purpose of this question, I will be using the `gsod2020` table. In addition, the dataset is very large and as such I will save a subset of the New York region in a new table to make my analysis easier.\n",
    "\n",
    "## Query: Weather for NY region in 2020\n",
    "\n",
    "Before proceeding with the analysis, it will be necessary to address missing values within the dataset to ensure that only valid data points are included in the analysis. In this case, missing values were represented by a specific values in the following columns:\n",
    "\n",
    "- `temp`: Temperature = 9999.9\n",
    "- `wdsp`: Wind speed = 999.9\n",
    "- `prcp`: Precipitation = 99.99\n",
    "\n",
    "The station codes for the two stations we are interested in for the New York region are:\n",
    "\n",
    "- 725030 for La Guardia\n",
    "- 744860 for JFK\n",
    "\n",
    "As it can be confusing to read the data with the Station IDs, I will add a name column with the Station name. To extract the temperature, wind speed, and precipitation for these, presented in descending order by date and ascending order by Station ID, for every day in 2020 from the dataset, the following SQL query is executed:"
   ]
  },
  {
   "cell_type": "markdown",
   "metadata": {},
   "source": [
    "# Activity: Analyze weather data in BigQuery\n",
    "\n",
    "## Overview\n",
    "\n",
    "As a data analyst at a news station in New York City, I have been tasked with answering questions about the weather for meteorologists. The meteorologists need me to obtain:\n",
    "\n",
    "- the temperature, wind speed, and precipitation for stations La Guardia and JFK, for every day in 2020. They’ve also requested the data be presented to them in descending order by date and ascending order by Station ID,\n",
    "- the average temperature in June 2020, and\n",
    "- the average wind speed in December 2020. \n",
    "\n",
    "## Dataset\n",
    "\n",
    "I will be working with a public dataset names `noaa_gsod` that contains global summaries of the day (GSOD) from the National Oceanic and Atmospheric Administration (NOAA). The full path of this dataset is `bigquery-public-data.noaa_gsod`. The GSOD dataset includes information about daily weather elements, such as mean temperature and wind speed, from more than 9,000 weather stations across the globe.\n",
    "\n",
    "The dataset stores the information for every year in a different table so for the purpose of this question, I will be using the `gsod2020` table. In addition, the dataset is very large and as such I will save a subset of the New York region in a new table to make my analysis easier.\n",
    "\n",
    "## Query: Weather for NY region in 2020\n",
    "\n",
    "Before proceeding with the analysis, it will be necessary to address missing values within the dataset to ensure that only valid data points are included in the analysis. In this case, missing values were represented by a specific values in the following columns:\n",
    "\n",
    "- `temp`: Temperature = 9999.9\n",
    "- `wdsp`: Wind speed = 999.9\n",
    "- `prcp`: Precipitation = 99.99\n",
    "\n",
    "The station codes for the two stations we are interested in for the New York region are:\n",
    "\n",
    "- 725030 for La Guardia\n",
    "- 744860 for JFK\n",
    "\n",
    "As it can be confusing to read the data with the Station IDs, I will add a name column with the Station name. To extract the temperature, wind speed, and precipitation for these, presented in descending order by date and ascending order by Station ID, for every day in 2020 from the dataset, the following SQL query is executed:"
   ]
  },
  {
   "cell_type": "code",
   "execution_count": null,
   "metadata": {
    "vscode": {
     "languageId": "sql"
    }
   },
   "outputs": [],
   "source": [
    "SELECT\n",
    "  stn,\n",
    "  (CASE\n",
    "    WHEN stn = \"725030\" THEN \"La Guardia\"\n",
    "    WHEN stn = \"744860\" THEN \"JFK\"\n",
    "    ELSE NULL\n",
    "  END) AS stn_name,\n",
    "  date,\n",
    "  IF(\n",
    "     temp=9999.9,\n",
    "     NULL,\n",
    "     temp) AS temperature,\n",
    "  IF(\n",
    "     wdsp=\"999.9\",\n",
    "     NULL,\n",
    "     CAST(wdsp AS Float64)) AS wind_speed,\n",
    "  \n",
    "  /* Wind speed is stored as a STRING value:\n",
    "   - input must be in quotation marks\n",
    "   - use CAST to change value to FLOAT for future calculations */\n",
    "   \n",
    "  IF(\n",
    "     prcp=99.99,\n",
    "     0,\n",
    "     prcp) AS precipitation\n",
    "FROM\n",
    "  `bigquery-public-data.noaa_gsod.gsod2020`\n",
    "WHERE\n",
    "  stn=\"725030\" -- La Guardia\n",
    "  OR stn=\"744860\" -- JFK\n",
    "ORDER BY\n",
    "  date DESC,\n",
    "  stn ASC;"
   ]
  },
  {
   "cell_type": "markdown",
   "metadata": {},
   "source": [
    "Below is an extract of the query results:\n",
    "\n",
    "![NY Region Weather](c05m01-weather-ny-region.png 'NY Region Weather')\n",
    "\n",
    "## Save a new table\n",
    "\n",
    "To avoid writing the same query over and over again with slight modifications, we will save the results from the previous query as a table for future queries. I select **Create dataset** and enter the **Dataset ID** `weather_demo`. Before executing the previous query again, I enter `CREATE TABLE `plucky-aegis-427011-v5.weather_demo.ny_region` AS` before the SELECT statement.\n",
    "\n",
    "My query has been saved as a new table `ny_region` in the new `weather_demo` table with the following schema:\n",
    "\n",
    "![New Table Schema](c05m01-new-table-schema.png 'New Table Schema')\n",
    "\n",
    "An alternative method to save a new table would have been to select the **MORE** menu from the Query Editor and opening the **Query Settings** menu with the previous query window open. Here select the button next to **Set a destination table for query results** and set the dataset option to `weather_demo`, name the table `ny_region`. Run the query to save the results as a new table in the `weather_demo` dataset. When done, remember to reset the settings to **Save query results in a temporary table** to prevent you from accidentally adding every query as a table to the dataset.\n",
    "\n",
    "## Query: Average temperature for June 2020\n",
    "\n",
    "I use the following SQL query to extract the average temperature for June 2020 from the new table `ny_region`:"
   ]
  },
  {
   "cell_type": "code",
   "execution_count": null,
   "metadata": {
    "vscode": {
     "languageId": "sql"
    }
   },
   "outputs": [],
   "source": [
    "SELECT\n",
    "  ROUND(AVG(temperature),2) AS avg_temp_june2020\n",
    "FROM `plucky-aegis-427011-v5.weather_demo.ny_region`\n",
    "WHERE\n",
    "  date BETWEEN '2020-06-01' AND '2020-06-30';"
   ]
  },
  {
   "cell_type": "markdown",
   "metadata": {},
   "source": [
    "The query returns the average temperature for June 2020 as 72.88°F as shown below:\n",
    "\n",
    "![June 2020 Average Temperature](c05m01-temp-avg-june-2020.png 'June 2020 Average Temperature')\n",
    "\n",
    "## Query: Average wind speed for December 2020\n",
    "\n",
    "Using the same table `ny_region`, I can write the following simplified query to obtain the average wind speed for December 2020:"
   ]
  },
  {
   "cell_type": "code",
   "execution_count": null,
   "metadata": {
    "vscode": {
     "languageId": "sql"
    }
   },
   "outputs": [],
   "source": [
    "SELECT\n",
    "  ROUND(AVG(wind_speed),2) AS avg_wdsp_dec2020\n",
    "FROM `plucky-aegis-427011-v5.weather_demo.ny_region`\n",
    "WHERE\n",
    "  date BETWEEN '2020-12-01' AND '2020-12-31';"
   ]
  },
  {
   "cell_type": "markdown",
   "metadata": {},
   "source": [
    "The average wind speed for December 2020 is 11.08 knots as per the query results:\n",
    "\n",
    "![December 2020 Average Wind Speed](c05m01-wdsp-avg-dec-2020.png 'December 2020 Average Wind Speed')"
   ]
  }
 ],
 "metadata": {
  "language_info": {
   "name": "python"
  }
 },
 "nbformat": 4,
 "nbformat_minor": 2
}

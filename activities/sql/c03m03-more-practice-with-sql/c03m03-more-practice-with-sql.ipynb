{
 "cells": [
  {
   "cell_type": "markdown",
   "metadata": {},
   "source": [
    "# Activity: More practice with SQL\n",
    "\n",
    "## Overview\n",
    "\n",
    "In this activity we practice using SQL to work with data in databases by writing SQL queries to retrieve data from large public databases. We are guided through the steps to retrieve the average tree diameter for the year 2005. Later, we run the same query for the years 1995 and 2015. However, I will combine all 3 calculations in 1 query.\n",
    "\n",
    "## Dataset\n",
    "\n",
    "We will use the BigQuery public dataset called `new_york_trees` with the full path `bigquery-public-data.new_york_trees`. In this database, we will use the following tables:\n",
    "\n",
    "- `tree_census_1995`\n",
    "- `tree_census_2005`\n",
    "- `tree_census_2015`\n",
    "\n",
    "The specific data that we are interested is the tree diameter, which is recorded in the *diameter* column in `tree_census_1995` table. However, this data is recorded in the *tree_dbh* column for the `tree_census_2005` and`tree_census_2015` tables.\n",
    "\n",
    "## Query: Average tree diameter for 1995, 2005 and 2015\n",
    "\n",
    "With the following query, I calculate the average tree diameter for each year rounding the result to 2 decimals and sorting it in descending order:"
   ]
  },
  {
   "cell_type": "code",
   "execution_count": null,
   "metadata": {
    "vscode": {
     "languageId": "sql"
    }
   },
   "outputs": [],
   "source": [
    "SELECT\n",
    "  1995 AS year,\n",
    "  ROUND(AVG(t1995.diameter),2) AS avg_diameter\n",
    "FROM\n",
    "  `bigquery-public-data.new_york_trees.tree_census_1995` AS t1995\n",
    "UNION ALL\n",
    "SELECT\n",
    "  2005 AS year,\n",
    "  ROUND(AVG(t2005.tree_dbh),2) AS avg_diameter\n",
    "FROM\n",
    "  `bigquery-public-data.new_york_trees.tree_census_2005` AS t2005\n",
    "UNION ALL\n",
    "SELECT\n",
    "  2015 AS year,\n",
    "  ROUND(AVG(t2015.tree_dbh),2) AS avg_diameter\n",
    "FROM\n",
    "  `bigquery-public-data.new_york_trees.tree_census_2015` AS t2015\n",
    "ORDER BY avg_diameter DESC;"
   ]
  },
  {
   "cell_type": "markdown",
   "metadata": {},
   "source": [
    "From the query, it is clear that trees in New York had the largest average diameter in **2005** with 12.83. The query results were returned in the summary table below:\n",
    "\n",
    "![Tree diameter query results](c03m03-tree-diameters.png)"
   ]
  }
 ],
 "metadata": {
  "language_info": {
   "name": "python"
  }
 },
 "nbformat": 4,
 "nbformat_minor": 2
}

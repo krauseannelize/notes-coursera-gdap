{
 "cells": [
  {
   "cell_type": "markdown",
   "metadata": {},
   "source": [
    "# Activity: SQL sorting queries\n",
    "\n",
    "## Overview\n",
    "\n",
    "For this activity, I am a public health researcher with a state government agency. For my current project, I need to identify counties in the United States that have the most and least births in the 2016-2018 time frame. Additionally, I am curious of the birth rate trend in update New York, specifically the Erie, Niagara, and Chautauqua counties.\n",
    "\n",
    "## Dataset\n",
    "\n",
    "I will use the BigQuery public dataset called `sdoh_cdc_wonder_natality` with the full path `bigquery-public-data.sdoh_cdc_wonder_natality`. To view all the tables in this public dataset in BigQuery, I use the INFORMATION_SCHEMA.TABLES view as follows:"
   ]
  },
  {
   "cell_type": "code",
   "execution_count": null,
   "metadata": {
    "vscode": {
     "languageId": "sql"
    }
   },
   "outputs": [],
   "source": [
    "SELECT *\n",
    "FROM `bigquery-public-data.sdoh_cdc_wonder_natality.INFORMATION_SCHEMA.TABLES`;"
   ]
  },
  {
   "cell_type": "markdown",
   "metadata": {},
   "source": [
    "We have the following tables to work with to obtain the data:\n",
    "\n",
    "- `county_natality`\n",
    "- `county_natality_by_abnormal_conditions`\n",
    "- `county_natality_by_congenital_abnormalities`\n",
    "- `county_natality_by_payment`\n",
    "- `county_natality_by_father_race`\n",
    "- `county_natality_by_maternal_morbidity`\n",
    "- `county_natality_by_mother_race`\n",
    "\n",
    "To conduct my research, I will require number of `Births`, `Year` of birth and `County_of_Residence`. This specific data is contained in the `county_natality` table that I will use for queries in this activity.\n",
    "\n",
    "## Query: Top 10 U. S. Counties with the least births\n",
    "\n",
    "Simply sorting the dataset by the `Births` column and limiting the results to the top 10 rows would return the 10 rows with the lowest birth counts. However, the focus of this project is to identify the U. S. Counties with the lowest birth rates, and a simple sort like that could result in the same county appearing multiple times in the top 10. Therefore, I will use a GROUP BY clause to group the results by `County_of_Residence` to obtain the overall birth count for each county.\n",
    "\n",
    "I will also use multiple CASE statements to calculate the total number of births for each of the years 2016, 2017, and 2018, as well as the overall total number of births across these years. The following SQL query was employed to extract the required data from the dataset:"
   ]
  },
  {
   "cell_type": "code",
   "execution_count": null,
   "metadata": {
    "vscode": {
     "languageId": "sql"
    }
   },
   "outputs": [],
   "source": [
    "SELECT\n",
    "  County_of_Residence,\n",
    "  SUM(Births) as Total_Births,\n",
    "  SUM(\n",
    "    CASE\n",
    "      WHEN EXTRACT(YEAR FROM Year) = 2016 THEN Births\n",
    "      ELSE 0 \n",
    "    END) AS Births_2016,\n",
    "  SUM(\n",
    "    CASE\n",
    "      WHEN EXTRACT(YEAR FROM Year) = 2017 THEN Births\n",
    "      ELSE 0 \n",
    "    END) AS Births_2017,\n",
    "  SUM(\n",
    "    CASE\n",
    "      WHEN EXTRACT(YEAR FROM Year) = 2018 THEN Births\n",
    "      ELSE 0 \n",
    "    END) AS Births_2018,  \n",
    "FROM\n",
    "  `bigquery-public-data.sdoh_cdc_wonder_natality.county_natality`\n",
    "GROUP BY\n",
    "  County_of_Residence\n",
    "ORDER BY\n",
    "  Total_Births\n",
    "LIMIT 10;"
   ]
  },
  {
   "cell_type": "markdown",
   "metadata": {},
   "source": [
    "The query successfully returns the 10 U. S. Counties with the lowest number of births for the years 2016, 2017 and 2018. The results of the query is shown below:\n",
    "\n",
    "![Lowest 10 Births](c05m01-births-lowest-10.png 'Lowest 10 Births')\n",
    "\n",
    "## Query: Top 10 U. S. Counties with the most births\n",
    "\n",
    "To determine the 10 U.S. Counties with the highest number of births, a slight modification to the previous query was made. The ORDER BY clause was adjusted to sort the results in descending order by Total_Births. The SQL query was modified as follows:"
   ]
  },
  {
   "cell_type": "code",
   "execution_count": null,
   "metadata": {
    "vscode": {
     "languageId": "sql"
    }
   },
   "outputs": [],
   "source": [
    "SELECT\n",
    "  County_of_Residence,\n",
    "  SUM(Births) as Total_Births,\n",
    "  SUM(\n",
    "    CASE\n",
    "      WHEN EXTRACT(YEAR FROM Year) = 2016 THEN Births\n",
    "      ELSE 0 \n",
    "    END) AS Births_2016,\n",
    "  SUM(\n",
    "    CASE\n",
    "      WHEN EXTRACT(YEAR FROM Year) = 2017 THEN Births\n",
    "      ELSE 0 \n",
    "    END) AS Births_2017,\n",
    "  SUM(\n",
    "    CASE\n",
    "      WHEN EXTRACT(YEAR FROM Year) = 2018 THEN Births\n",
    "      ELSE 0 \n",
    "    END) AS Births_2018,  \n",
    "FROM\n",
    "  `bigquery-public-data.sdoh_cdc_wonder_natality.county_natality`\n",
    "GROUP BY\n",
    "  County_of_Residence\n",
    "ORDER BY\n",
    "  Total_Births DESC -- Modification to change sorting order\n",
    "LIMIT 10;"
   ]
  },
  {
   "cell_type": "markdown",
   "metadata": {},
   "source": [
    "The query returns the top 10 U. S. Counties with the highest number of births for the years 2016, 2017 and 2018:\n",
    "\n",
    "![Highest 10 Births](c05m01-births-highest-10.png 'Highest 10 Births')\n",
    "\n",
    "## Query: Birth rate trend for Erie, Niagara, and Chautauqua counties\n",
    "\n",
    "This query retrieves all birth-related data for Erie, Niagara, and Chautauqua counties in New York, presenting the results in a structured manner, sorted by county and then chronologically by year:"
   ]
  },
  {
   "cell_type": "code",
   "execution_count": null,
   "metadata": {
    "vscode": {
     "languageId": "sql"
    }
   },
   "outputs": [],
   "source": [
    "SELECT\n",
    "  *\n",
    "FROM\n",
    "  bigquery-public-data.sdoh_cdc_wonder_natality.county_natality\n",
    "WHERE\n",
    "  County_of_Residence IN ('Erie County, NY','Niagara County, NY','Chautauqua County, NY')\n",
    "ORDER BY\n",
    "  County_of_Residence, \n",
    "  Year;"
   ]
  },
  {
   "cell_type": "markdown",
   "metadata": {
    "vscode": {
     "languageId": "sql"
    }
   },
   "source": [
    "The query results return the number of births in the counties of Erie, Niagara and Chautauqua for the years 2016, 2017 and 2018, respectively:\n",
    "\n",
    "![NY County Births](c05m01-births-ny-counties.png 'NY County Births')"
   ]
  }
 ],
 "metadata": {
  "language_info": {
   "name": "python"
  }
 },
 "nbformat": 4,
 "nbformat_minor": 2
}
